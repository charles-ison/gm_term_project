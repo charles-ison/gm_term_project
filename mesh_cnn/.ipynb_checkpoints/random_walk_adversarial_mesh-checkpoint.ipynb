{
 "cells": [
  {
   "cell_type": "code",
   "execution_count": 1,
   "id": "f6596c18",
   "metadata": {},
   "outputs": [],
   "source": [
    "from options.test_options import TestOptions\n",
    "from data import DataLoader\n",
    "from models import create_model\n",
    "from util.writer import Writer"
   ]
  },
  {
   "cell_type": "code",
   "execution_count": 2,
   "id": "955ac5db",
   "metadata": {
    "scrolled": true
   },
   "outputs": [
    {
     "name": "stdout",
     "output_type": "stream",
     "text": [
      "Running Test\n",
      "loaded mean / std from cache\n",
      "loading the model from ./checkpoints/shrec16/latest_net.pth\n"
     ]
    },
    {
     "ename": "NameError",
     "evalue": "name 'epoch' is not defined",
     "output_type": "error",
     "traceback": [
      "\u001b[0;31m---------------------------------------------------------------------------\u001b[0m",
      "\u001b[0;31mNameError\u001b[0m                                 Traceback (most recent call last)",
      "Cell \u001b[0;32mIn [2], line 13\u001b[0m\n\u001b[1;32m     11\u001b[0m     ncorrect, nexamples \u001b[38;5;241m=\u001b[39m model\u001b[38;5;241m.\u001b[39mtest()\n\u001b[1;32m     12\u001b[0m     writer\u001b[38;5;241m.\u001b[39mupdate_counter(ncorrect, nexamples)\n\u001b[0;32m---> 13\u001b[0m writer\u001b[38;5;241m.\u001b[39mprint_acc(epoch, writer\u001b[38;5;241m.\u001b[39macc)\n\u001b[1;32m     14\u001b[0m \u001b[38;5;28;01mreturn\u001b[39;00m writer\u001b[38;5;241m.\u001b[39macc\n",
      "\u001b[0;31mNameError\u001b[0m: name 'epoch' is not defined"
     ]
    }
   ],
   "source": [
    "print('Running Test')\n",
    "opt = TestOptions().parse()\n",
    "opt.serial_batches = True  # no shuffle\n",
    "dataset = DataLoader(opt)\n",
    "model = create_model(opt)\n",
    "writer = Writer(opt)\n",
    "# test\n",
    "writer.reset_counter()\n",
    "for i, data in enumerate(dataset):\n",
    "    model.set_input(data)\n",
    "    ncorrect, nexamples = model.test()\n",
    "    writer.update_counter(ncorrect, nexamples)\n",
    "writer.print_acc(-1, writer.acc)\n",
    "return writer.acc"
   ]
  },
  {
   "cell_type": "code",
   "execution_count": null,
   "id": "245ab88c",
   "metadata": {},
   "outputs": [],
   "source": []
  }
 ],
 "metadata": {
  "kernelspec": {
   "display_name": "Python 3 (ipykernel)",
   "language": "python",
   "name": "python3"
  },
  "language_info": {
   "codemirror_mode": {
    "name": "ipython",
    "version": 3
   },
   "file_extension": ".py",
   "mimetype": "text/x-python",
   "name": "python",
   "nbconvert_exporter": "python",
   "pygments_lexer": "ipython3",
   "version": "3.10.7"
  }
 },
 "nbformat": 4,
 "nbformat_minor": 5
}
