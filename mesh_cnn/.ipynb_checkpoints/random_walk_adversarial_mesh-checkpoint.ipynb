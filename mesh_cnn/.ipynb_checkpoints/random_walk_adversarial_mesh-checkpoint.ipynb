{
 "cells": [
  {
   "cell_type": "code",
   "execution_count": 1,
   "id": "f6596c18",
   "metadata": {},
   "outputs": [],
   "source": [
    "from options.test_options import TestOptions\n",
    "from data import DataLoader\n",
    "from models import create_model\n",
    "from util.writer import Writer"
   ]
  },
  {
   "cell_type": "code",
   "execution_count": null,
   "id": "955ac5db",
   "metadata": {
    "scrolled": true
   },
   "outputs": [
    {
     "name": "stdout",
     "output_type": "stream",
     "text": [
      "Running Test\n",
      "loaded mean / std from cache\n",
      "loading the model from ./checkpoints/shrec16/latest_net.pth\n",
      "i: 0\n",
      "i: 1\n",
      "i: 2\n",
      "i: 3\n",
      "i: 4\n",
      "i: 5\n",
      "i: 6\n"
     ]
    }
   ],
   "source": [
    "print('Running Test')\n",
    "opt = TestOptions().parse()\n",
    "opt.serial_batches = True  # no shuffle\n",
    "dataset = DataLoader(opt)\n",
    "mesh_cnn = create_model(opt)\n",
    "writer = Writer(opt)\n",
    "\n",
    "# test\n",
    "writer.reset_counter()\n",
    "for i, data in enumerate(dataset):\n",
    "    print(\"i: \" + str(i))\n",
    "    mesh_cnn.set_input(data)\n",
    "    output, ncorrect, nexamples = mesh_cnn.test()\n",
    "    \n",
    "    print(output.size())\n",
    "    \n",
    "    writer.update_counter(ncorrect, nexamples)\n",
    "writer.print_acc(-1, writer.acc)"
   ]
  },
  {
   "cell_type": "code",
   "execution_count": null,
   "id": "245ab88c",
   "metadata": {},
   "outputs": [],
   "source": []
  }
 ],
 "metadata": {
  "kernelspec": {
   "display_name": "Python 3 (ipykernel)",
   "language": "python",
   "name": "python3"
  },
  "language_info": {
   "codemirror_mode": {
    "name": "ipython",
    "version": 3
   },
   "file_extension": ".py",
   "mimetype": "text/x-python",
   "name": "python",
   "nbconvert_exporter": "python",
   "pygments_lexer": "ipython3",
   "version": "3.10.7"
  }
 },
 "nbformat": 4,
 "nbformat_minor": 5
}
